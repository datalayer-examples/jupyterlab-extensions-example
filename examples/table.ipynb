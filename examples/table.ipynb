{
 "cells": [
  {
   "cell_type": "code",
   "execution_count": 2,
   "metadata": {},
   "outputs": [
    {
     "data": {
      "text/csv": [
       "0;1;2;3;4;5;6;7;8;9\n",
       "0;1;2;3;4;5;6;7;8;9\n",
       "0;1;2;3;4;5;6;7;8;9\n",
       "0;1;2;3;4;5;6;7;8;9\n",
       "0;1;2;3;4;5;6;7;8;9\n",
       "0;1;2;3;4;5;6;7;8;9\n",
       "0;1;2;3;4;5;6;7;8;9\n",
       "0;1;2;3;4;5;6;7;8;9\n",
       "0;1;2;3;4;5;6;7;8;9\n",
       "0;1;2;3;4;5;6;7;8;9"
      ]
     },
     "metadata": {},
     "output_type": "display_data"
    }
   ],
   "source": [
    "from IPython.display import display\n",
    "def Table(data=''):\n",
    "    bundle = {}\n",
    "    bundle['text/csv'] = data\n",
    "    display(bundle, raw=True)\n",
    "\n",
    "data = '\\n'.join(';'.join([str(x) for x in range(10)]) for y in range(10))\n",
    "Table(data)"
   ]
  },
  {
   "cell_type": "code",
   "execution_count": null,
   "metadata": {},
   "outputs": [],
   "source": []
  }
 ],
 "metadata": {
  "kernelspec": {
   "display_name": "Python 3",
   "language": "python",
   "name": "python3"
  },
  "language_info": {
   "codemirror_mode": {
    "name": "ipython",
    "version": 3
   },
   "file_extension": ".py",
   "mimetype": "text/x-python",
   "name": "python",
   "nbconvert_exporter": "python",
   "pygments_lexer": "ipython3",
   "version": "3.8.6"
  }
 },
 "nbformat": 4,
 "nbformat_minor": 4
}
