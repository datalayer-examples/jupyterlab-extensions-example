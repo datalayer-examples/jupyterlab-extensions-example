{
 "cells": [
  {
   "cell_type": "code",
   "execution_count": 5,
   "metadata": {
    "execution": {
     "iopub.execute_input": "2022-11-27T07:05:52.105805Z",
     "iopub.status.busy": "2022-11-27T07:05:52.105526Z",
     "iopub.status.idle": "2022-11-27T07:05:52.118893Z",
     "shell.execute_reply": "2022-11-27T07:05:52.117955Z",
     "shell.execute_reply.started": "2022-11-27T07:05:52.105785Z"
    }
   },
   "outputs": [
    {
     "ename": "ImportError",
     "evalue": "cannot import name 'KernelMemoryUsage' from 'jupyterlabextensions' (/Users/echarles/private/datalayer-platform/ext/jupyterlab-extensions-example/jupyterlabextensions/__init__.py)",
     "output_type": "error",
     "traceback": [
      "\u001b[0;31m---------------------------------------------------------------------------\u001b[0m",
      "\u001b[0;31mImportError\u001b[0m                               Traceback (most recent call last)",
      "Cell \u001b[0;32mIn [5], line 1\u001b[0m\n\u001b[0;32m----> 1\u001b[0m \u001b[38;5;28;01mfrom\u001b[39;00m \u001b[38;5;21;01mjupyterlabextensions\u001b[39;00m \u001b[38;5;28;01mimport\u001b[39;00m KernelMemoryUsage\n\u001b[1;32m      2\u001b[0m memory_usage \u001b[38;5;241m=\u001b[39m KernelMemoryUsage()\n\u001b[1;32m      3\u001b[0m memory_usage\u001b[38;5;241m.\u001b[39mlimit \u001b[38;5;241m=\u001b[39m \u001b[38;5;241m1\u001b[39m \u001b[38;5;241m<<\u001b[39m \u001b[38;5;241m32\u001b[39m\n",
      "\u001b[0;31mImportError\u001b[0m: cannot import name 'KernelMemoryUsage' from 'jupyterlabextensions' (/Users/echarles/private/datalayer-platform/ext/jupyterlab-extensions-example/jupyterlabextensions/__init__.py)"
     ]
    }
   ],
   "source": [
    "from jupyterlabextensions import KernelMemoryUsage\n",
    "memory_usage = KernelMemoryUsage()\n",
    "memory_usage.limit = 1 << 32\n",
    "memory_usage"
   ]
  },
  {
   "cell_type": "code",
   "execution_count": 5,
   "metadata": {},
   "outputs": [],
   "source": [
    "arr = bytearray(1 << 30)"
   ]
  },
  {
   "cell_type": "code",
   "execution_count": 6,
   "metadata": {},
   "outputs": [],
   "source": [
    "del arr"
   ]
  },
  {
   "cell_type": "code",
   "execution_count": 4,
   "metadata": {},
   "outputs": [],
   "source": [
    "memory_usage.label = \"Memory Usage:\""
   ]
  },
  {
   "cell_type": "code",
   "execution_count": null,
   "metadata": {},
   "outputs": [],
   "source": []
  }
 ],
 "metadata": {
  "kernelspec": {
   "display_name": "Python 3 (ipykernel)",
   "language": "python",
   "name": "python3"
  },
  "language_info": {
   "codemirror_mode": {
    "name": "ipython",
    "version": 3
   },
   "file_extension": ".py",
   "mimetype": "text/x-python",
   "name": "python",
   "nbconvert_exporter": "python",
   "pygments_lexer": "ipython3",
   "version": "3.9.13"
  }
 },
 "nbformat": 4,
 "nbformat_minor": 4
}
